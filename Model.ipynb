{
 "cells": [
  {
   "cell_type": "code",
   "execution_count": 30,
   "id": "405ed0ec",
   "metadata": {},
   "outputs": [
    {
     "name": "stderr",
     "output_type": "stream",
     "text": [
      "C:\\Users\\Neutral_Neutron\\AppData\\Local\\Temp\\ipykernel_6740\\1375529997.py:52: FutureWarning: The frame.append method is deprecated and will be removed from pandas in a future version. Use pandas.concat instead.\n",
      "  data=data.append(data1)\n",
      "C:\\Users\\Neutral_Neutron\\AppData\\Local\\Temp\\ipykernel_6740\\1375529997.py:53: FutureWarning: The frame.append method is deprecated and will be removed from pandas in a future version. Use pandas.concat instead.\n",
      "  data=data.append(data2)\n"
     ]
    },
    {
     "name": "stdout",
     "output_type": "stream",
     "text": [
      "the movie \"the good, the bad and the ugly\" was a weak movie\n",
      "[0]\n"
     ]
    }
   ],
   "source": [
    "import pandas as pd\n",
    "from hazm import Normalizer\n",
    "import re\n",
    "from sklearn.model_selection import train_test_split\n",
    "from sklearn.feature_extraction.text import TfidfVectorizer\n",
    "from sklearn.svm import SVC\n",
    "from sklearn.metrics import accuracy_score\n",
    "from sklearn.pipeline import Pipeline\n",
    "\n",
    "\n",
    "normalizer = Normalizer()\n",
    "\n",
    "def normalize_text(line):\n",
    "    line=str(line)\n",
    "    line = re.sub(\n",
    "        r'[.{}[\\]؛:«»؟!٬٫٪×،*)(ـ+<>\\'\",`=+\\-?!@#$%^&*()_\\/\\\\\\\\]', '', line.strip())\n",
    "    line = re.sub(r'\\s+', ' ', line.strip())\n",
    "    line = normalizer.normalize(line)\n",
    "    line=line.lower()\n",
    "    return line\n",
    "\n",
    "sentences=[]\n",
    "digits=[]\n",
    "with open(\"amazon_cells_labelled.txt\", 'r') as file:\n",
    "    for line in file:\n",
    "        parts = line.strip().split()\n",
    "        sentence = ' '.join(parts[:-1])\n",
    "        digit = int(parts[-1])\n",
    "        sentences.append(sentence)\n",
    "        digits.append(digit)     \n",
    "data = pd.DataFrame({'Sentence': sentences, 'Digit': digits})\n",
    "sentences=[]\n",
    "digits=[]\n",
    "with open(\"imdb_labelled.txt\", 'r') as file:\n",
    "    for line in file:\n",
    "        parts = line.strip().split()\n",
    "        sentence = ' '.join(parts[:-1])\n",
    "        digit = int(parts[-1])\n",
    "        sentences.append(sentence)\n",
    "        digits.append(digit)     \n",
    "data1 = pd.DataFrame({'Sentence': sentences, 'Digit': digits})\n",
    "sentences=[]\n",
    "digits=[]\n",
    "with open(\"yelp_labelled.txt\", 'r') as file:\n",
    "    for line in file:\n",
    "        parts = line.strip().split()\n",
    "        sentence = ' '.join(parts[:-1])\n",
    "        digit = int(parts[-1])\n",
    "        sentences.append(sentence)\n",
    "        digits.append(digit)     \n",
    "data2 = pd.DataFrame({'Sentence': sentences, 'Digit': digits})\n",
    "data=data.append(data1)\n",
    "data=data.append(data2)\n",
    "\n",
    "data['Sentence'] = data['Sentence'].apply(normalize_text)\n",
    "\n",
    "\n",
    "X = data['Sentence']\n",
    "y = data['Digit']\n",
    "\n",
    "\n",
    "# X_train, X_test, y_train, y_test = train_test_split(X, y, test_size=0.2, random_state=42)\n",
    "\n",
    "\n",
    "model = Pipeline([\n",
    "    ('tfidf', TfidfVectorizer()),\n",
    "    ('svm', SVC(kernel='linear'))\n",
    "])\n",
    "\n",
    "\n",
    "model.fit(X, y)\n",
    "# model.fit(X_train, y_train)\n",
    "# y_pred = model.predict(X_test)\n",
    "# accuracy = accuracy_score(y_test, y_pred)\n",
    "# print(accuracy)\n",
    "\n",
    "\n",
    "print(model.predict([input()]))"
   ]
  },
  {
   "cell_type": "code",
   "execution_count": 31,
   "id": "bd25243d",
   "metadata": {},
   "outputs": [
    {
     "name": "stdout",
     "output_type": "stream",
     "text": [
      "it was an interesting movie\n",
      "[1]\n"
     ]
    }
   ],
   "source": [
    "print(model.predict([input()]))"
   ]
  },
  {
   "cell_type": "code",
   "execution_count": 32,
   "id": "91588437",
   "metadata": {},
   "outputs": [
    {
     "name": "stdout",
     "output_type": "stream",
     "text": [
      "it could be better\n",
      "[0]\n"
     ]
    }
   ],
   "source": [
    "print(model.predict([input()]))"
   ]
  }
 ],
 "metadata": {
  "kernelspec": {
   "display_name": "Python 3 (ipykernel)",
   "language": "python",
   "name": "python3"
  },
  "language_info": {
   "codemirror_mode": {
    "name": "ipython",
    "version": 3
   },
   "file_extension": ".py",
   "mimetype": "text/x-python",
   "name": "python",
   "nbconvert_exporter": "python",
   "pygments_lexer": "ipython3",
   "version": "3.9.13"
  }
 },
 "nbformat": 4,
 "nbformat_minor": 5
}
